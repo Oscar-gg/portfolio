{
 "cells": [
  {
   "cell_type": "code",
   "execution_count": 42,
   "metadata": {},
   "outputs": [
    {
     "name": "stdout",
     "output_type": "stream",
     "text": [
      "\u001b[33mWARNING: Skipping ragatouille as it is not installed.\u001b[0m\u001b[33m\n",
      "\u001b[0m"
     ]
    }
   ],
   "source": [
    "!pip uninstall -y ragatouille"
   ]
  },
  {
   "cell_type": "code",
   "execution_count": 1,
   "metadata": {},
   "outputs": [
    {
     "name": "stdout",
     "output_type": "stream",
     "text": [
      "Requirement already satisfied: torch in /home/oscar/miniconda3/envs/jupyter/lib/python3.10/site-packages (2.4.1+cu118)\n",
      "Requirement already satisfied: torchvision in /home/oscar/miniconda3/envs/jupyter/lib/python3.10/site-packages (0.19.1+cu118)\n",
      "Requirement already satisfied: filelock in /home/oscar/miniconda3/envs/jupyter/lib/python3.10/site-packages (from torch) (3.16.1)\n",
      "Requirement already satisfied: typing-extensions>=4.8.0 in /home/oscar/miniconda3/envs/jupyter/lib/python3.10/site-packages (from torch) (4.11.0)\n",
      "Requirement already satisfied: sympy in /home/oscar/miniconda3/envs/jupyter/lib/python3.10/site-packages (from torch) (1.13.3)\n",
      "Requirement already satisfied: networkx in /home/oscar/miniconda3/envs/jupyter/lib/python3.10/site-packages (from torch) (3.4)\n",
      "Requirement already satisfied: jinja2 in /home/oscar/miniconda3/envs/jupyter/lib/python3.10/site-packages (from torch) (3.1.4)\n",
      "Requirement already satisfied: fsspec in /home/oscar/miniconda3/envs/jupyter/lib/python3.10/site-packages (from torch) (2024.6.1)\n",
      "Requirement already satisfied: nvidia-cuda-nvrtc-cu11==11.8.89 in /home/oscar/miniconda3/envs/jupyter/lib/python3.10/site-packages (from torch) (11.8.89)\n",
      "Requirement already satisfied: nvidia-cuda-runtime-cu11==11.8.89 in /home/oscar/miniconda3/envs/jupyter/lib/python3.10/site-packages (from torch) (11.8.89)\n",
      "Requirement already satisfied: nvidia-cuda-cupti-cu11==11.8.87 in /home/oscar/miniconda3/envs/jupyter/lib/python3.10/site-packages (from torch) (11.8.87)\n",
      "Requirement already satisfied: nvidia-cudnn-cu11==9.1.0.70 in /home/oscar/miniconda3/envs/jupyter/lib/python3.10/site-packages (from torch) (9.1.0.70)\n",
      "Requirement already satisfied: nvidia-cublas-cu11==11.11.3.6 in /home/oscar/miniconda3/envs/jupyter/lib/python3.10/site-packages (from torch) (11.11.3.6)\n",
      "Requirement already satisfied: nvidia-cufft-cu11==10.9.0.58 in /home/oscar/miniconda3/envs/jupyter/lib/python3.10/site-packages (from torch) (10.9.0.58)\n",
      "Requirement already satisfied: nvidia-curand-cu11==10.3.0.86 in /home/oscar/miniconda3/envs/jupyter/lib/python3.10/site-packages (from torch) (10.3.0.86)\n",
      "Requirement already satisfied: nvidia-cusolver-cu11==11.4.1.48 in /home/oscar/miniconda3/envs/jupyter/lib/python3.10/site-packages (from torch) (11.4.1.48)\n",
      "Requirement already satisfied: nvidia-cusparse-cu11==11.7.5.86 in /home/oscar/miniconda3/envs/jupyter/lib/python3.10/site-packages (from torch) (11.7.5.86)\n",
      "Requirement already satisfied: nvidia-nccl-cu11==2.20.5 in /home/oscar/miniconda3/envs/jupyter/lib/python3.10/site-packages (from torch) (2.20.5)\n",
      "Requirement already satisfied: nvidia-nvtx-cu11==11.8.86 in /home/oscar/miniconda3/envs/jupyter/lib/python3.10/site-packages (from torch) (11.8.86)\n",
      "Requirement already satisfied: triton==3.0.0 in /home/oscar/miniconda3/envs/jupyter/lib/python3.10/site-packages (from torch) (3.0.0)\n",
      "Requirement already satisfied: numpy in /home/oscar/miniconda3/envs/jupyter/lib/python3.10/site-packages (from torchvision) (1.26.4)\n",
      "Requirement already satisfied: pillow!=8.3.*,>=5.3.0 in /home/oscar/miniconda3/envs/jupyter/lib/python3.10/site-packages (from torchvision) (10.4.0)\n",
      "Requirement already satisfied: MarkupSafe>=2.0 in /home/oscar/miniconda3/envs/jupyter/lib/python3.10/site-packages (from jinja2->torch) (3.0.1)\n",
      "Requirement already satisfied: mpmath<1.4,>=1.1.0 in /home/oscar/miniconda3/envs/jupyter/lib/python3.10/site-packages (from sympy->torch) (1.3.0)\n"
     ]
    }
   ],
   "source": [
    "!pip install torch torchvision"
   ]
  },
  {
   "cell_type": "code",
   "execution_count": 2,
   "metadata": {},
   "outputs": [
    {
     "name": "stdout",
     "output_type": "stream",
     "text": [
      "Requirement already satisfied: sentence-transformers in /home/oscar/miniconda3/envs/jupyter/lib/python3.10/site-packages (3.2.0)\n",
      "Requirement already satisfied: transformers<5.0.0,>=4.41.0 in /home/oscar/miniconda3/envs/jupyter/lib/python3.10/site-packages (from sentence-transformers) (4.45.2)\n",
      "Requirement already satisfied: tqdm in /home/oscar/miniconda3/envs/jupyter/lib/python3.10/site-packages (from sentence-transformers) (4.66.5)\n",
      "Requirement already satisfied: torch>=1.11.0 in /home/oscar/miniconda3/envs/jupyter/lib/python3.10/site-packages (from sentence-transformers) (2.4.1+cu118)\n",
      "Requirement already satisfied: scikit-learn in /home/oscar/miniconda3/envs/jupyter/lib/python3.10/site-packages (from sentence-transformers) (1.5.2)\n",
      "Requirement already satisfied: scipy in /home/oscar/miniconda3/envs/jupyter/lib/python3.10/site-packages (from sentence-transformers) (1.14.1)\n",
      "Requirement already satisfied: huggingface-hub>=0.20.0 in /home/oscar/miniconda3/envs/jupyter/lib/python3.10/site-packages (from sentence-transformers) (0.25.2)\n",
      "Requirement already satisfied: Pillow in /home/oscar/miniconda3/envs/jupyter/lib/python3.10/site-packages (from sentence-transformers) (10.4.0)\n",
      "Requirement already satisfied: filelock in /home/oscar/miniconda3/envs/jupyter/lib/python3.10/site-packages (from huggingface-hub>=0.20.0->sentence-transformers) (3.16.1)\n",
      "Requirement already satisfied: fsspec>=2023.5.0 in /home/oscar/miniconda3/envs/jupyter/lib/python3.10/site-packages (from huggingface-hub>=0.20.0->sentence-transformers) (2024.6.1)\n",
      "Requirement already satisfied: packaging>=20.9 in /home/oscar/miniconda3/envs/jupyter/lib/python3.10/site-packages (from huggingface-hub>=0.20.0->sentence-transformers) (24.1)\n",
      "Requirement already satisfied: pyyaml>=5.1 in /home/oscar/miniconda3/envs/jupyter/lib/python3.10/site-packages (from huggingface-hub>=0.20.0->sentence-transformers) (6.0.2)\n",
      "Requirement already satisfied: requests in /home/oscar/miniconda3/envs/jupyter/lib/python3.10/site-packages (from huggingface-hub>=0.20.0->sentence-transformers) (2.32.3)\n",
      "Requirement already satisfied: typing-extensions>=3.7.4.3 in /home/oscar/miniconda3/envs/jupyter/lib/python3.10/site-packages (from huggingface-hub>=0.20.0->sentence-transformers) (4.11.0)\n",
      "Requirement already satisfied: sympy in /home/oscar/miniconda3/envs/jupyter/lib/python3.10/site-packages (from torch>=1.11.0->sentence-transformers) (1.13.3)\n",
      "Requirement already satisfied: networkx in /home/oscar/miniconda3/envs/jupyter/lib/python3.10/site-packages (from torch>=1.11.0->sentence-transformers) (3.4)\n",
      "Requirement already satisfied: jinja2 in /home/oscar/miniconda3/envs/jupyter/lib/python3.10/site-packages (from torch>=1.11.0->sentence-transformers) (3.1.4)\n",
      "Requirement already satisfied: nvidia-cuda-nvrtc-cu11==11.8.89 in /home/oscar/miniconda3/envs/jupyter/lib/python3.10/site-packages (from torch>=1.11.0->sentence-transformers) (11.8.89)\n",
      "Requirement already satisfied: nvidia-cuda-runtime-cu11==11.8.89 in /home/oscar/miniconda3/envs/jupyter/lib/python3.10/site-packages (from torch>=1.11.0->sentence-transformers) (11.8.89)\n",
      "Requirement already satisfied: nvidia-cuda-cupti-cu11==11.8.87 in /home/oscar/miniconda3/envs/jupyter/lib/python3.10/site-packages (from torch>=1.11.0->sentence-transformers) (11.8.87)\n",
      "Requirement already satisfied: nvidia-cudnn-cu11==9.1.0.70 in /home/oscar/miniconda3/envs/jupyter/lib/python3.10/site-packages (from torch>=1.11.0->sentence-transformers) (9.1.0.70)\n",
      "Requirement already satisfied: nvidia-cublas-cu11==11.11.3.6 in /home/oscar/miniconda3/envs/jupyter/lib/python3.10/site-packages (from torch>=1.11.0->sentence-transformers) (11.11.3.6)\n",
      "Requirement already satisfied: nvidia-cufft-cu11==10.9.0.58 in /home/oscar/miniconda3/envs/jupyter/lib/python3.10/site-packages (from torch>=1.11.0->sentence-transformers) (10.9.0.58)\n",
      "Requirement already satisfied: nvidia-curand-cu11==10.3.0.86 in /home/oscar/miniconda3/envs/jupyter/lib/python3.10/site-packages (from torch>=1.11.0->sentence-transformers) (10.3.0.86)\n",
      "Requirement already satisfied: nvidia-cusolver-cu11==11.4.1.48 in /home/oscar/miniconda3/envs/jupyter/lib/python3.10/site-packages (from torch>=1.11.0->sentence-transformers) (11.4.1.48)\n",
      "Requirement already satisfied: nvidia-cusparse-cu11==11.7.5.86 in /home/oscar/miniconda3/envs/jupyter/lib/python3.10/site-packages (from torch>=1.11.0->sentence-transformers) (11.7.5.86)\n",
      "Requirement already satisfied: nvidia-nccl-cu11==2.20.5 in /home/oscar/miniconda3/envs/jupyter/lib/python3.10/site-packages (from torch>=1.11.0->sentence-transformers) (2.20.5)\n",
      "Requirement already satisfied: nvidia-nvtx-cu11==11.8.86 in /home/oscar/miniconda3/envs/jupyter/lib/python3.10/site-packages (from torch>=1.11.0->sentence-transformers) (11.8.86)\n",
      "Requirement already satisfied: triton==3.0.0 in /home/oscar/miniconda3/envs/jupyter/lib/python3.10/site-packages (from torch>=1.11.0->sentence-transformers) (3.0.0)\n",
      "Requirement already satisfied: numpy>=1.17 in /home/oscar/miniconda3/envs/jupyter/lib/python3.10/site-packages (from transformers<5.0.0,>=4.41.0->sentence-transformers) (1.26.4)\n",
      "Requirement already satisfied: regex!=2019.12.17 in /home/oscar/miniconda3/envs/jupyter/lib/python3.10/site-packages (from transformers<5.0.0,>=4.41.0->sentence-transformers) (2024.9.11)\n",
      "Requirement already satisfied: safetensors>=0.4.1 in /home/oscar/miniconda3/envs/jupyter/lib/python3.10/site-packages (from transformers<5.0.0,>=4.41.0->sentence-transformers) (0.4.5)\n",
      "Requirement already satisfied: tokenizers<0.21,>=0.20 in /home/oscar/miniconda3/envs/jupyter/lib/python3.10/site-packages (from transformers<5.0.0,>=4.41.0->sentence-transformers) (0.20.1)\n",
      "Requirement already satisfied: joblib>=1.2.0 in /home/oscar/miniconda3/envs/jupyter/lib/python3.10/site-packages (from scikit-learn->sentence-transformers) (1.4.2)\n",
      "Requirement already satisfied: threadpoolctl>=3.1.0 in /home/oscar/miniconda3/envs/jupyter/lib/python3.10/site-packages (from scikit-learn->sentence-transformers) (3.5.0)\n",
      "Requirement already satisfied: MarkupSafe>=2.0 in /home/oscar/miniconda3/envs/jupyter/lib/python3.10/site-packages (from jinja2->torch>=1.11.0->sentence-transformers) (3.0.1)\n",
      "Requirement already satisfied: charset-normalizer<4,>=2 in /home/oscar/miniconda3/envs/jupyter/lib/python3.10/site-packages (from requests->huggingface-hub>=0.20.0->sentence-transformers) (3.4.0)\n",
      "Requirement already satisfied: idna<4,>=2.5 in /home/oscar/miniconda3/envs/jupyter/lib/python3.10/site-packages (from requests->huggingface-hub>=0.20.0->sentence-transformers) (3.10)\n",
      "Requirement already satisfied: urllib3<3,>=1.21.1 in /home/oscar/miniconda3/envs/jupyter/lib/python3.10/site-packages (from requests->huggingface-hub>=0.20.0->sentence-transformers) (2.2.3)\n",
      "Requirement already satisfied: certifi>=2017.4.17 in /home/oscar/miniconda3/envs/jupyter/lib/python3.10/site-packages (from requests->huggingface-hub>=0.20.0->sentence-transformers) (2024.8.30)\n",
      "Requirement already satisfied: mpmath<1.4,>=1.1.0 in /home/oscar/miniconda3/envs/jupyter/lib/python3.10/site-packages (from sympy->torch>=1.11.0->sentence-transformers) (1.3.0)\n"
     ]
    }
   ],
   "source": [
    "!pip install -U sentence-transformers"
   ]
  },
  {
   "cell_type": "code",
   "execution_count": 3,
   "metadata": {},
   "outputs": [
    {
     "name": "stdout",
     "output_type": "stream",
     "text": [
      "Requirement already satisfied: transformers in /home/oscar/miniconda3/envs/jupyter/lib/python3.10/site-packages (4.45.2)\n",
      "Requirement already satisfied: accelerate in /home/oscar/miniconda3/envs/jupyter/lib/python3.10/site-packages (1.0.0)\n",
      "Requirement already satisfied: bitsandbytes in /home/oscar/miniconda3/envs/jupyter/lib/python3.10/site-packages (0.44.1)\n",
      "Requirement already satisfied: langchain in /home/oscar/miniconda3/envs/jupyter/lib/python3.10/site-packages (0.3.3)\n",
      "Requirement already satisfied: sentence-transformers in /home/oscar/miniconda3/envs/jupyter/lib/python3.10/site-packages (3.2.0)\n",
      "Requirement already satisfied: faiss-gpu in /home/oscar/miniconda3/envs/jupyter/lib/python3.10/site-packages (1.7.2)\n",
      "Requirement already satisfied: openpyxl in /home/oscar/miniconda3/envs/jupyter/lib/python3.10/site-packages (3.1.5)\n",
      "Requirement already satisfied: pacmap in /home/oscar/miniconda3/envs/jupyter/lib/python3.10/site-packages (0.7.3)\n",
      "Requirement already satisfied: datasets in /home/oscar/miniconda3/envs/jupyter/lib/python3.10/site-packages (3.0.1)\n",
      "Requirement already satisfied: langchain-community in /home/oscar/miniconda3/envs/jupyter/lib/python3.10/site-packages (0.3.2)\n",
      "Collecting ragatouille\n",
      "  Using cached ragatouille-0.0.8.post4-py3-none-any.whl.metadata (15 kB)\n",
      "Requirement already satisfied: matplotlib in /home/oscar/miniconda3/envs/jupyter/lib/python3.10/site-packages (3.9.2)\n",
      "Requirement already satisfied: filelock in /home/oscar/miniconda3/envs/jupyter/lib/python3.10/site-packages (from transformers) (3.16.1)\n",
      "Requirement already satisfied: huggingface-hub<1.0,>=0.23.2 in /home/oscar/miniconda3/envs/jupyter/lib/python3.10/site-packages (from transformers) (0.25.2)\n",
      "Requirement already satisfied: numpy>=1.17 in /home/oscar/miniconda3/envs/jupyter/lib/python3.10/site-packages (from transformers) (1.26.4)\n",
      "Requirement already satisfied: packaging>=20.0 in /home/oscar/miniconda3/envs/jupyter/lib/python3.10/site-packages (from transformers) (24.1)\n",
      "Requirement already satisfied: pyyaml>=5.1 in /home/oscar/miniconda3/envs/jupyter/lib/python3.10/site-packages (from transformers) (6.0.2)\n",
      "Requirement already satisfied: regex!=2019.12.17 in /home/oscar/miniconda3/envs/jupyter/lib/python3.10/site-packages (from transformers) (2024.9.11)\n",
      "Requirement already satisfied: requests in /home/oscar/miniconda3/envs/jupyter/lib/python3.10/site-packages (from transformers) (2.32.3)\n",
      "Requirement already satisfied: safetensors>=0.4.1 in /home/oscar/miniconda3/envs/jupyter/lib/python3.10/site-packages (from transformers) (0.4.5)\n",
      "Requirement already satisfied: tokenizers<0.21,>=0.20 in /home/oscar/miniconda3/envs/jupyter/lib/python3.10/site-packages (from transformers) (0.20.1)\n",
      "Requirement already satisfied: tqdm>=4.27 in /home/oscar/miniconda3/envs/jupyter/lib/python3.10/site-packages (from transformers) (4.66.5)\n",
      "Requirement already satisfied: psutil in /home/oscar/miniconda3/envs/jupyter/lib/python3.10/site-packages (from accelerate) (5.9.0)\n",
      "Requirement already satisfied: torch>=1.10.0 in /home/oscar/miniconda3/envs/jupyter/lib/python3.10/site-packages (from accelerate) (2.4.1+cu118)\n",
      "Requirement already satisfied: SQLAlchemy<3,>=1.4 in /home/oscar/miniconda3/envs/jupyter/lib/python3.10/site-packages (from langchain) (2.0.35)\n",
      "Requirement already satisfied: aiohttp<4.0.0,>=3.8.3 in /home/oscar/miniconda3/envs/jupyter/lib/python3.10/site-packages (from langchain) (3.10.10)\n",
      "Requirement already satisfied: async-timeout<5.0.0,>=4.0.0 in /home/oscar/miniconda3/envs/jupyter/lib/python3.10/site-packages (from langchain) (4.0.3)\n",
      "Requirement already satisfied: langchain-core<0.4.0,>=0.3.10 in /home/oscar/miniconda3/envs/jupyter/lib/python3.10/site-packages (from langchain) (0.3.10)\n",
      "Requirement already satisfied: langchain-text-splitters<0.4.0,>=0.3.0 in /home/oscar/miniconda3/envs/jupyter/lib/python3.10/site-packages (from langchain) (0.3.0)\n",
      "Requirement already satisfied: langsmith<0.2.0,>=0.1.17 in /home/oscar/miniconda3/envs/jupyter/lib/python3.10/site-packages (from langchain) (0.1.134)\n",
      "Requirement already satisfied: pydantic<3.0.0,>=2.7.4 in /home/oscar/miniconda3/envs/jupyter/lib/python3.10/site-packages (from langchain) (2.9.2)\n",
      "Requirement already satisfied: tenacity!=8.4.0,<9.0.0,>=8.1.0 in /home/oscar/miniconda3/envs/jupyter/lib/python3.10/site-packages (from langchain) (8.5.0)\n",
      "Requirement already satisfied: scikit-learn in /home/oscar/miniconda3/envs/jupyter/lib/python3.10/site-packages (from sentence-transformers) (1.5.2)\n",
      "Requirement already satisfied: scipy in /home/oscar/miniconda3/envs/jupyter/lib/python3.10/site-packages (from sentence-transformers) (1.14.1)\n",
      "Requirement already satisfied: Pillow in /home/oscar/miniconda3/envs/jupyter/lib/python3.10/site-packages (from sentence-transformers) (10.4.0)\n",
      "Requirement already satisfied: et-xmlfile in /home/oscar/miniconda3/envs/jupyter/lib/python3.10/site-packages (from openpyxl) (1.1.0)\n",
      "Requirement already satisfied: numba>=0.57 in /home/oscar/miniconda3/envs/jupyter/lib/python3.10/site-packages (from pacmap) (0.60.0)\n",
      "Requirement already satisfied: annoy>=1.11 in /home/oscar/miniconda3/envs/jupyter/lib/python3.10/site-packages (from pacmap) (1.17.3)\n",
      "Requirement already satisfied: pyarrow>=15.0.0 in /home/oscar/miniconda3/envs/jupyter/lib/python3.10/site-packages (from datasets) (17.0.0)\n",
      "Requirement already satisfied: dill<0.3.9,>=0.3.0 in /home/oscar/miniconda3/envs/jupyter/lib/python3.10/site-packages (from datasets) (0.3.8)\n",
      "Requirement already satisfied: pandas in /home/oscar/miniconda3/envs/jupyter/lib/python3.10/site-packages (from datasets) (2.2.3)\n",
      "Requirement already satisfied: xxhash in /home/oscar/miniconda3/envs/jupyter/lib/python3.10/site-packages (from datasets) (3.5.0)\n",
      "Requirement already satisfied: multiprocess in /home/oscar/miniconda3/envs/jupyter/lib/python3.10/site-packages (from datasets) (0.70.16)\n",
      "Requirement already satisfied: fsspec<=2024.6.1,>=2023.1.0 in /home/oscar/miniconda3/envs/jupyter/lib/python3.10/site-packages (from fsspec[http]<=2024.6.1,>=2023.1.0->datasets) (2024.6.1)\n",
      "Requirement already satisfied: dataclasses-json<0.7,>=0.5.7 in /home/oscar/miniconda3/envs/jupyter/lib/python3.10/site-packages (from langchain-community) (0.6.7)\n",
      "Requirement already satisfied: pydantic-settings<3.0.0,>=2.4.0 in /home/oscar/miniconda3/envs/jupyter/lib/python3.10/site-packages (from langchain-community) (2.5.2)\n",
      "Requirement already satisfied: colbert-ai==0.2.19 in /home/oscar/miniconda3/envs/jupyter/lib/python3.10/site-packages (from ragatouille) (0.2.19)\n",
      "Requirement already satisfied: faiss-cpu<2.0.0,>=1.7.4 in /home/oscar/miniconda3/envs/jupyter/lib/python3.10/site-packages (from ragatouille) (1.9.0)\n",
      "Requirement already satisfied: fast-pytorch-kmeans==0.2.0.1 in /home/oscar/miniconda3/envs/jupyter/lib/python3.10/site-packages (from ragatouille) (0.2.0.1)\n",
      "Requirement already satisfied: llama-index>=0.7 in /home/oscar/miniconda3/envs/jupyter/lib/python3.10/site-packages (from ragatouille) (0.11.17)\n",
      "Requirement already satisfied: onnx<2.0.0,>=1.15.0 in /home/oscar/miniconda3/envs/jupyter/lib/python3.10/site-packages (from ragatouille) (1.17.0)\n",
      "Collecting sentence-transformers\n",
      "  Using cached sentence_transformers-2.7.0-py3-none-any.whl.metadata (11 kB)\n",
      "Requirement already satisfied: srsly==2.4.8 in /home/oscar/miniconda3/envs/jupyter/lib/python3.10/site-packages (from ragatouille) (2.4.8)\n",
      "Requirement already satisfied: voyager<3.0.0,>=2.0.2 in /home/oscar/miniconda3/envs/jupyter/lib/python3.10/site-packages (from ragatouille) (2.0.9)\n",
      "Requirement already satisfied: bitarray in /home/oscar/miniconda3/envs/jupyter/lib/python3.10/site-packages (from colbert-ai==0.2.19->ragatouille) (2.9.3)\n",
      "Requirement already satisfied: flask in /home/oscar/miniconda3/envs/jupyter/lib/python3.10/site-packages (from colbert-ai==0.2.19->ragatouille) (3.0.3)\n",
      "Requirement already satisfied: git-python in /home/oscar/miniconda3/envs/jupyter/lib/python3.10/site-packages (from colbert-ai==0.2.19->ragatouille) (1.0.3)\n",
      "Requirement already satisfied: python-dotenv in /home/oscar/miniconda3/envs/jupyter/lib/python3.10/site-packages (from colbert-ai==0.2.19->ragatouille) (1.0.1)\n",
      "Requirement already satisfied: ninja in /home/oscar/miniconda3/envs/jupyter/lib/python3.10/site-packages (from colbert-ai==0.2.19->ragatouille) (1.11.1.1)\n",
      "Requirement already satisfied: ujson in /home/oscar/miniconda3/envs/jupyter/lib/python3.10/site-packages (from colbert-ai==0.2.19->ragatouille) (5.10.0)\n",
      "Requirement already satisfied: pynvml in /home/oscar/miniconda3/envs/jupyter/lib/python3.10/site-packages (from fast-pytorch-kmeans==0.2.0.1->ragatouille) (11.5.3)\n",
      "Requirement already satisfied: catalogue<2.1.0,>=2.0.3 in /home/oscar/miniconda3/envs/jupyter/lib/python3.10/site-packages (from srsly==2.4.8->ragatouille) (2.0.10)\n",
      "Requirement already satisfied: contourpy>=1.0.1 in /home/oscar/miniconda3/envs/jupyter/lib/python3.10/site-packages (from matplotlib) (1.3.0)\n",
      "Requirement already satisfied: cycler>=0.10 in /home/oscar/miniconda3/envs/jupyter/lib/python3.10/site-packages (from matplotlib) (0.12.1)\n",
      "Requirement already satisfied: fonttools>=4.22.0 in /home/oscar/miniconda3/envs/jupyter/lib/python3.10/site-packages (from matplotlib) (4.54.1)\n",
      "Requirement already satisfied: kiwisolver>=1.3.1 in /home/oscar/miniconda3/envs/jupyter/lib/python3.10/site-packages (from matplotlib) (1.4.7)\n",
      "Requirement already satisfied: pyparsing>=2.3.1 in /home/oscar/miniconda3/envs/jupyter/lib/python3.10/site-packages (from matplotlib) (3.1.4)\n",
      "Requirement already satisfied: python-dateutil>=2.7 in /home/oscar/miniconda3/envs/jupyter/lib/python3.10/site-packages (from matplotlib) (2.9.0.post0)\n",
      "Requirement already satisfied: aiohappyeyeballs>=2.3.0 in /home/oscar/miniconda3/envs/jupyter/lib/python3.10/site-packages (from aiohttp<4.0.0,>=3.8.3->langchain) (2.4.3)\n",
      "Requirement already satisfied: aiosignal>=1.1.2 in /home/oscar/miniconda3/envs/jupyter/lib/python3.10/site-packages (from aiohttp<4.0.0,>=3.8.3->langchain) (1.3.1)\n",
      "Requirement already satisfied: attrs>=17.3.0 in /home/oscar/miniconda3/envs/jupyter/lib/python3.10/site-packages (from aiohttp<4.0.0,>=3.8.3->langchain) (24.2.0)\n",
      "Requirement already satisfied: frozenlist>=1.1.1 in /home/oscar/miniconda3/envs/jupyter/lib/python3.10/site-packages (from aiohttp<4.0.0,>=3.8.3->langchain) (1.4.1)\n",
      "Requirement already satisfied: multidict<7.0,>=4.5 in /home/oscar/miniconda3/envs/jupyter/lib/python3.10/site-packages (from aiohttp<4.0.0,>=3.8.3->langchain) (6.1.0)\n",
      "Requirement already satisfied: yarl<2.0,>=1.12.0 in /home/oscar/miniconda3/envs/jupyter/lib/python3.10/site-packages (from aiohttp<4.0.0,>=3.8.3->langchain) (1.14.0)\n",
      "Requirement already satisfied: marshmallow<4.0.0,>=3.18.0 in /home/oscar/miniconda3/envs/jupyter/lib/python3.10/site-packages (from dataclasses-json<0.7,>=0.5.7->langchain-community) (3.22.0)\n",
      "Requirement already satisfied: typing-inspect<1,>=0.4.0 in /home/oscar/miniconda3/envs/jupyter/lib/python3.10/site-packages (from dataclasses-json<0.7,>=0.5.7->langchain-community) (0.9.0)\n",
      "Requirement already satisfied: typing-extensions>=3.7.4.3 in /home/oscar/miniconda3/envs/jupyter/lib/python3.10/site-packages (from huggingface-hub<1.0,>=0.23.2->transformers) (4.11.0)\n",
      "Requirement already satisfied: jsonpatch<2.0,>=1.33 in /home/oscar/miniconda3/envs/jupyter/lib/python3.10/site-packages (from langchain-core<0.4.0,>=0.3.10->langchain) (1.33)\n",
      "Requirement already satisfied: httpx<1,>=0.23.0 in /home/oscar/miniconda3/envs/jupyter/lib/python3.10/site-packages (from langsmith<0.2.0,>=0.1.17->langchain) (0.27.2)\n",
      "Requirement already satisfied: orjson<4.0.0,>=3.9.14 in /home/oscar/miniconda3/envs/jupyter/lib/python3.10/site-packages (from langsmith<0.2.0,>=0.1.17->langchain) (3.10.7)\n",
      "Requirement already satisfied: requests-toolbelt<2.0.0,>=1.0.0 in /home/oscar/miniconda3/envs/jupyter/lib/python3.10/site-packages (from langsmith<0.2.0,>=0.1.17->langchain) (1.0.0)\n",
      "Requirement already satisfied: llama-index-agent-openai<0.4.0,>=0.3.4 in /home/oscar/miniconda3/envs/jupyter/lib/python3.10/site-packages (from llama-index>=0.7->ragatouille) (0.3.4)\n",
      "Requirement already satisfied: llama-index-cli<0.4.0,>=0.3.1 in /home/oscar/miniconda3/envs/jupyter/lib/python3.10/site-packages (from llama-index>=0.7->ragatouille) (0.3.1)\n",
      "Requirement already satisfied: llama-index-core<0.12.0,>=0.11.17 in /home/oscar/miniconda3/envs/jupyter/lib/python3.10/site-packages (from llama-index>=0.7->ragatouille) (0.11.17)\n",
      "Requirement already satisfied: llama-index-embeddings-openai<0.3.0,>=0.2.4 in /home/oscar/miniconda3/envs/jupyter/lib/python3.10/site-packages (from llama-index>=0.7->ragatouille) (0.2.5)\n",
      "Requirement already satisfied: llama-index-indices-managed-llama-cloud>=0.3.0 in /home/oscar/miniconda3/envs/jupyter/lib/python3.10/site-packages (from llama-index>=0.7->ragatouille) (0.4.0)\n",
      "Requirement already satisfied: llama-index-legacy<0.10.0,>=0.9.48 in /home/oscar/miniconda3/envs/jupyter/lib/python3.10/site-packages (from llama-index>=0.7->ragatouille) (0.9.48.post3)\n",
      "Requirement already satisfied: llama-index-llms-openai<0.3.0,>=0.2.10 in /home/oscar/miniconda3/envs/jupyter/lib/python3.10/site-packages (from llama-index>=0.7->ragatouille) (0.2.13)\n",
      "Requirement already satisfied: llama-index-multi-modal-llms-openai<0.3.0,>=0.2.0 in /home/oscar/miniconda3/envs/jupyter/lib/python3.10/site-packages (from llama-index>=0.7->ragatouille) (0.2.2)\n",
      "Requirement already satisfied: llama-index-program-openai<0.3.0,>=0.2.0 in /home/oscar/miniconda3/envs/jupyter/lib/python3.10/site-packages (from llama-index>=0.7->ragatouille) (0.2.0)\n",
      "Requirement already satisfied: llama-index-question-gen-openai<0.3.0,>=0.2.0 in /home/oscar/miniconda3/envs/jupyter/lib/python3.10/site-packages (from llama-index>=0.7->ragatouille) (0.2.0)\n",
      "Requirement already satisfied: llama-index-readers-file<0.3.0,>=0.2.0 in /home/oscar/miniconda3/envs/jupyter/lib/python3.10/site-packages (from llama-index>=0.7->ragatouille) (0.2.2)\n",
      "Requirement already satisfied: llama-index-readers-llama-parse>=0.3.0 in /home/oscar/miniconda3/envs/jupyter/lib/python3.10/site-packages (from llama-index>=0.7->ragatouille) (0.3.0)\n",
      "Requirement already satisfied: nltk>3.8.1 in /home/oscar/miniconda3/envs/jupyter/lib/python3.10/site-packages (from llama-index>=0.7->ragatouille) (3.9.1)\n",
      "Requirement already satisfied: llvmlite<0.44,>=0.43.0dev0 in /home/oscar/miniconda3/envs/jupyter/lib/python3.10/site-packages (from numba>=0.57->pacmap) (0.43.0)\n",
      "Requirement already satisfied: protobuf>=3.20.2 in /home/oscar/miniconda3/envs/jupyter/lib/python3.10/site-packages (from onnx<2.0.0,>=1.15.0->ragatouille) (5.28.2)\n",
      "Requirement already satisfied: annotated-types>=0.6.0 in /home/oscar/miniconda3/envs/jupyter/lib/python3.10/site-packages (from pydantic<3.0.0,>=2.7.4->langchain) (0.7.0)\n",
      "Requirement already satisfied: pydantic-core==2.23.4 in /home/oscar/miniconda3/envs/jupyter/lib/python3.10/site-packages (from pydantic<3.0.0,>=2.7.4->langchain) (2.23.4)\n",
      "Requirement already satisfied: six>=1.5 in /home/oscar/miniconda3/envs/jupyter/lib/python3.10/site-packages (from python-dateutil>=2.7->matplotlib) (1.16.0)\n",
      "Requirement already satisfied: charset-normalizer<4,>=2 in /home/oscar/miniconda3/envs/jupyter/lib/python3.10/site-packages (from requests->transformers) (3.4.0)\n",
      "Requirement already satisfied: idna<4,>=2.5 in /home/oscar/miniconda3/envs/jupyter/lib/python3.10/site-packages (from requests->transformers) (3.10)\n",
      "Requirement already satisfied: urllib3<3,>=1.21.1 in /home/oscar/miniconda3/envs/jupyter/lib/python3.10/site-packages (from requests->transformers) (2.2.3)\n",
      "Requirement already satisfied: certifi>=2017.4.17 in /home/oscar/miniconda3/envs/jupyter/lib/python3.10/site-packages (from requests->transformers) (2024.8.30)\n",
      "Requirement already satisfied: joblib>=1.2.0 in /home/oscar/miniconda3/envs/jupyter/lib/python3.10/site-packages (from scikit-learn->sentence-transformers) (1.4.2)\n",
      "Requirement already satisfied: threadpoolctl>=3.1.0 in /home/oscar/miniconda3/envs/jupyter/lib/python3.10/site-packages (from scikit-learn->sentence-transformers) (3.5.0)\n",
      "Requirement already satisfied: greenlet!=0.4.17 in /home/oscar/miniconda3/envs/jupyter/lib/python3.10/site-packages (from SQLAlchemy<3,>=1.4->langchain) (3.1.1)\n",
      "Requirement already satisfied: sympy in /home/oscar/miniconda3/envs/jupyter/lib/python3.10/site-packages (from torch>=1.10.0->accelerate) (1.13.3)\n",
      "Requirement already satisfied: networkx in /home/oscar/miniconda3/envs/jupyter/lib/python3.10/site-packages (from torch>=1.10.0->accelerate) (3.4)\n",
      "Requirement already satisfied: jinja2 in /home/oscar/miniconda3/envs/jupyter/lib/python3.10/site-packages (from torch>=1.10.0->accelerate) (3.1.4)\n",
      "Requirement already satisfied: nvidia-cuda-nvrtc-cu11==11.8.89 in /home/oscar/miniconda3/envs/jupyter/lib/python3.10/site-packages (from torch>=1.10.0->accelerate) (11.8.89)\n",
      "Requirement already satisfied: nvidia-cuda-runtime-cu11==11.8.89 in /home/oscar/miniconda3/envs/jupyter/lib/python3.10/site-packages (from torch>=1.10.0->accelerate) (11.8.89)\n",
      "Requirement already satisfied: nvidia-cuda-cupti-cu11==11.8.87 in /home/oscar/miniconda3/envs/jupyter/lib/python3.10/site-packages (from torch>=1.10.0->accelerate) (11.8.87)\n",
      "Requirement already satisfied: nvidia-cudnn-cu11==9.1.0.70 in /home/oscar/miniconda3/envs/jupyter/lib/python3.10/site-packages (from torch>=1.10.0->accelerate) (9.1.0.70)\n",
      "Requirement already satisfied: nvidia-cublas-cu11==11.11.3.6 in /home/oscar/miniconda3/envs/jupyter/lib/python3.10/site-packages (from torch>=1.10.0->accelerate) (11.11.3.6)\n",
      "Requirement already satisfied: nvidia-cufft-cu11==10.9.0.58 in /home/oscar/miniconda3/envs/jupyter/lib/python3.10/site-packages (from torch>=1.10.0->accelerate) (10.9.0.58)\n",
      "Requirement already satisfied: nvidia-curand-cu11==10.3.0.86 in /home/oscar/miniconda3/envs/jupyter/lib/python3.10/site-packages (from torch>=1.10.0->accelerate) (10.3.0.86)\n",
      "Requirement already satisfied: nvidia-cusolver-cu11==11.4.1.48 in /home/oscar/miniconda3/envs/jupyter/lib/python3.10/site-packages (from torch>=1.10.0->accelerate) (11.4.1.48)\n",
      "Requirement already satisfied: nvidia-cusparse-cu11==11.7.5.86 in /home/oscar/miniconda3/envs/jupyter/lib/python3.10/site-packages (from torch>=1.10.0->accelerate) (11.7.5.86)\n",
      "Requirement already satisfied: nvidia-nccl-cu11==2.20.5 in /home/oscar/miniconda3/envs/jupyter/lib/python3.10/site-packages (from torch>=1.10.0->accelerate) (2.20.5)\n",
      "Requirement already satisfied: nvidia-nvtx-cu11==11.8.86 in /home/oscar/miniconda3/envs/jupyter/lib/python3.10/site-packages (from torch>=1.10.0->accelerate) (11.8.86)\n",
      "Requirement already satisfied: triton==3.0.0 in /home/oscar/miniconda3/envs/jupyter/lib/python3.10/site-packages (from torch>=1.10.0->accelerate) (3.0.0)\n",
      "Requirement already satisfied: pytz>=2020.1 in /home/oscar/miniconda3/envs/jupyter/lib/python3.10/site-packages (from pandas->datasets) (2024.2)\n",
      "Requirement already satisfied: tzdata>=2022.7 in /home/oscar/miniconda3/envs/jupyter/lib/python3.10/site-packages (from pandas->datasets) (2024.2)\n",
      "Requirement already satisfied: anyio in /home/oscar/miniconda3/envs/jupyter/lib/python3.10/site-packages (from httpx<1,>=0.23.0->langsmith<0.2.0,>=0.1.17->langchain) (4.6.0)\n",
      "Requirement already satisfied: httpcore==1.* in /home/oscar/miniconda3/envs/jupyter/lib/python3.10/site-packages (from httpx<1,>=0.23.0->langsmith<0.2.0,>=0.1.17->langchain) (1.0.6)\n",
      "Requirement already satisfied: sniffio in /home/oscar/miniconda3/envs/jupyter/lib/python3.10/site-packages (from httpx<1,>=0.23.0->langsmith<0.2.0,>=0.1.17->langchain) (1.3.1)\n",
      "Requirement already satisfied: h11<0.15,>=0.13 in /home/oscar/miniconda3/envs/jupyter/lib/python3.10/site-packages (from httpcore==1.*->httpx<1,>=0.23.0->langsmith<0.2.0,>=0.1.17->langchain) (0.14.0)\n",
      "Requirement already satisfied: jsonpointer>=1.9 in /home/oscar/miniconda3/envs/jupyter/lib/python3.10/site-packages (from jsonpatch<2.0,>=1.33->langchain-core<0.4.0,>=0.3.10->langchain) (3.0.0)\n",
      "Requirement already satisfied: openai>=1.14.0 in /home/oscar/miniconda3/envs/jupyter/lib/python3.10/site-packages (from llama-index-agent-openai<0.4.0,>=0.3.4->llama-index>=0.7->ragatouille) (1.51.2)\n",
      "Requirement already satisfied: deprecated>=1.2.9.3 in /home/oscar/miniconda3/envs/jupyter/lib/python3.10/site-packages (from llama-index-core<0.12.0,>=0.11.17->llama-index>=0.7->ragatouille) (1.2.14)\n",
      "Requirement already satisfied: dirtyjson<2.0.0,>=1.0.8 in /home/oscar/miniconda3/envs/jupyter/lib/python3.10/site-packages (from llama-index-core<0.12.0,>=0.11.17->llama-index>=0.7->ragatouille) (1.0.8)\n",
      "Requirement already satisfied: nest-asyncio<2.0.0,>=1.5.8 in /home/oscar/miniconda3/envs/jupyter/lib/python3.10/site-packages (from llama-index-core<0.12.0,>=0.11.17->llama-index>=0.7->ragatouille) (1.6.0)\n",
      "Requirement already satisfied: tiktoken>=0.3.3 in /home/oscar/miniconda3/envs/jupyter/lib/python3.10/site-packages (from llama-index-core<0.12.0,>=0.11.17->llama-index>=0.7->ragatouille) (0.8.0)\n",
      "Requirement already satisfied: wrapt in /home/oscar/miniconda3/envs/jupyter/lib/python3.10/site-packages (from llama-index-core<0.12.0,>=0.11.17->llama-index>=0.7->ragatouille) (1.16.0)\n",
      "Requirement already satisfied: llama-cloud>=0.0.11 in /home/oscar/miniconda3/envs/jupyter/lib/python3.10/site-packages (from llama-index-indices-managed-llama-cloud>=0.3.0->llama-index>=0.7->ragatouille) (0.1.2)\n",
      "Requirement already satisfied: beautifulsoup4<5.0.0,>=4.12.3 in /home/oscar/miniconda3/envs/jupyter/lib/python3.10/site-packages (from llama-index-readers-file<0.3.0,>=0.2.0->llama-index>=0.7->ragatouille) (4.12.3)\n",
      "Requirement already satisfied: pypdf<5.0.0,>=4.0.1 in /home/oscar/miniconda3/envs/jupyter/lib/python3.10/site-packages (from llama-index-readers-file<0.3.0,>=0.2.0->llama-index>=0.7->ragatouille) (4.3.1)\n",
      "Requirement already satisfied: striprtf<0.0.27,>=0.0.26 in /home/oscar/miniconda3/envs/jupyter/lib/python3.10/site-packages (from llama-index-readers-file<0.3.0,>=0.2.0->llama-index>=0.7->ragatouille) (0.0.26)\n",
      "Requirement already satisfied: llama-parse>=0.5.0 in /home/oscar/miniconda3/envs/jupyter/lib/python3.10/site-packages (from llama-index-readers-llama-parse>=0.3.0->llama-index>=0.7->ragatouille) (0.5.7)\n",
      "Requirement already satisfied: click in /home/oscar/miniconda3/envs/jupyter/lib/python3.10/site-packages (from nltk>3.8.1->llama-index>=0.7->ragatouille) (8.1.7)\n",
      "Requirement already satisfied: mypy-extensions>=0.3.0 in /home/oscar/miniconda3/envs/jupyter/lib/python3.10/site-packages (from typing-inspect<1,>=0.4.0->dataclasses-json<0.7,>=0.5.7->langchain-community) (1.0.0)\n",
      "Requirement already satisfied: propcache>=0.2.0 in /home/oscar/miniconda3/envs/jupyter/lib/python3.10/site-packages (from yarl<2.0,>=1.12.0->aiohttp<4.0.0,>=3.8.3->langchain) (0.2.0)\n",
      "Requirement already satisfied: Werkzeug>=3.0.0 in /home/oscar/miniconda3/envs/jupyter/lib/python3.10/site-packages (from flask->colbert-ai==0.2.19->ragatouille) (3.0.4)\n",
      "Requirement already satisfied: itsdangerous>=2.1.2 in /home/oscar/miniconda3/envs/jupyter/lib/python3.10/site-packages (from flask->colbert-ai==0.2.19->ragatouille) (2.2.0)\n",
      "Requirement already satisfied: blinker>=1.6.2 in /home/oscar/miniconda3/envs/jupyter/lib/python3.10/site-packages (from flask->colbert-ai==0.2.19->ragatouille) (1.8.2)\n",
      "Requirement already satisfied: MarkupSafe>=2.0 in /home/oscar/miniconda3/envs/jupyter/lib/python3.10/site-packages (from jinja2->torch>=1.10.0->accelerate) (3.0.1)\n",
      "Requirement already satisfied: gitpython in /home/oscar/miniconda3/envs/jupyter/lib/python3.10/site-packages (from git-python->colbert-ai==0.2.19->ragatouille) (3.1.43)\n",
      "Requirement already satisfied: mpmath<1.4,>=1.1.0 in /home/oscar/miniconda3/envs/jupyter/lib/python3.10/site-packages (from sympy->torch>=1.10.0->accelerate) (1.3.0)\n",
      "Requirement already satisfied: soupsieve>1.2 in /home/oscar/miniconda3/envs/jupyter/lib/python3.10/site-packages (from beautifulsoup4<5.0.0,>=4.12.3->llama-index-readers-file<0.3.0,>=0.2.0->llama-index>=0.7->ragatouille) (2.6)\n",
      "Requirement already satisfied: distro<2,>=1.7.0 in /home/oscar/miniconda3/envs/jupyter/lib/python3.10/site-packages (from openai>=1.14.0->llama-index-agent-openai<0.4.0,>=0.3.4->llama-index>=0.7->ragatouille) (1.9.0)\n",
      "Requirement already satisfied: jiter<1,>=0.4.0 in /home/oscar/miniconda3/envs/jupyter/lib/python3.10/site-packages (from openai>=1.14.0->llama-index-agent-openai<0.4.0,>=0.3.4->llama-index>=0.7->ragatouille) (0.6.1)\n",
      "Requirement already satisfied: exceptiongroup>=1.0.2 in /home/oscar/miniconda3/envs/jupyter/lib/python3.10/site-packages (from anyio->httpx<1,>=0.23.0->langsmith<0.2.0,>=0.1.17->langchain) (1.2.0)\n",
      "Requirement already satisfied: gitdb<5,>=4.0.1 in /home/oscar/miniconda3/envs/jupyter/lib/python3.10/site-packages (from gitpython->git-python->colbert-ai==0.2.19->ragatouille) (4.0.11)\n",
      "Requirement already satisfied: smmap<6,>=3.0.1 in /home/oscar/miniconda3/envs/jupyter/lib/python3.10/site-packages (from gitdb<5,>=4.0.1->gitpython->git-python->colbert-ai==0.2.19->ragatouille) (5.0.1)\n",
      "Using cached ragatouille-0.0.8.post4-py3-none-any.whl (41 kB)\n",
      "Using cached sentence_transformers-2.7.0-py3-none-any.whl (171 kB)\n",
      "Installing collected packages: sentence-transformers, ragatouille\n",
      "  Attempting uninstall: sentence-transformers\n",
      "    Found existing installation: sentence-transformers 3.2.0\n",
      "    Uninstalling sentence-transformers-3.2.0:\n",
      "      Successfully uninstalled sentence-transformers-3.2.0\n",
      "Successfully installed ragatouille-0.0.8.post4 sentence-transformers-2.7.0\n"
     ]
    }
   ],
   "source": [
    "!pip install transformers accelerate bitsandbytes langchain sentence-transformers faiss-gpu openpyxl pacmap datasets langchain-community ragatouille matplotlib"
   ]
  },
  {
   "cell_type": "code",
   "execution_count": 4,
   "metadata": {},
   "outputs": [
    {
     "name": "stdout",
     "output_type": "stream",
     "text": [
      "True\n"
     ]
    }
   ],
   "source": [
    "import torch\n",
    "\n",
    "print(torch.cuda.is_available())"
   ]
  },
  {
   "cell_type": "code",
   "execution_count": 8,
   "metadata": {},
   "outputs": [],
   "source": [
    "from tqdm.notebook import tqdm\n",
    "import pandas as pd\n",
    "from typing import Optional, List, Tuple\n",
    "from datasets import Dataset\n",
    "import matplotlib.pyplot as plt\n",
    "import os\n",
    "\n",
    "pd.set_option(\"display.max_colwidth\", None)  # This will be helpful when visualizing retriever outputs"
   ]
  },
  {
   "cell_type": "code",
   "execution_count": 9,
   "metadata": {},
   "outputs": [],
   "source": [
    "def read_files_in_directory(directory):\n",
    "    \"\"\"\n",
    "    Iterate through all files in the given directory and return their text content.\n",
    "    \"\"\"\n",
    "    file_contents = {}\n",
    "    \n",
    "    # Iterate through all files in the directory\n",
    "    for root, dirs, files in os.walk(directory):\n",
    "        for file in files:\n",
    "            file_path = os.path.join(root, file)\n",
    "            \n",
    "            # Open and read the file's content\n",
    "            try:\n",
    "                with open(file_path, 'r', encoding='utf-8') as f:\n",
    "                    file_contents[file_path] = f.read()\n",
    "            except Exception as e:\n",
    "                print(f\"Error reading {file_path}: {e}\")\n",
    "    \n",
    "    return file_contents"
   ]
  },
  {
   "cell_type": "code",
   "execution_count": 10,
   "metadata": {},
   "outputs": [],
   "source": [
    "from langchain.docstore.document import Document as LangchainDocument\n",
    "\n",
    "ds = read_files_in_directory('assets')\n",
    "\n",
    "RAW_KNOWLEDGE_BASE = [\n",
    "    LangchainDocument(page_content=value, metadata={\"source\": key}) for key, value in ds.items()\n",
    "]"
   ]
  },
  {
   "cell_type": "code",
   "execution_count": 11,
   "metadata": {},
   "outputs": [],
   "source": [
    "from langchain.text_splitter import RecursiveCharacterTextSplitter\n",
    "\n",
    "# We use a hierarchical list of separators specifically tailored for splitting Markdown documents\n",
    "# This list is taken from LangChain's MarkdownTextSplitter class\n",
    "MARKDOWN_SEPARATORS = [\n",
    "    \"\\n#{1,6} \",\n",
    "    \"```\\n\",\n",
    "    \"\\n\\\\*\\\\*\\\\*+\\n\",\n",
    "    \"\\n---+\\n\",\n",
    "    \"\\n___+\\n\",\n",
    "    \"\\n\\n\",\n",
    "    \"\\n\",\n",
    "    \" \",\n",
    "    \"\",\n",
    "]\n",
    "\n",
    "text_splitter = RecursiveCharacterTextSplitter(\n",
    "    chunk_size=1000,  # The maximum number of characters in a chunk: we selected this value arbitrarily\n",
    "    chunk_overlap=100,  # The number of characters to overlap between chunks\n",
    "    add_start_index=True,  # If `True`, includes chunk's start index in metadata\n",
    "    strip_whitespace=True,  # If `True`, strips whitespace from the start and end of every document\n",
    "    separators=MARKDOWN_SEPARATORS,\n",
    ")\n",
    "\n",
    "docs_processed = []\n",
    "for doc in RAW_KNOWLEDGE_BASE:\n",
    "    docs_processed += text_splitter.split_documents([doc])"
   ]
  },
  {
   "cell_type": "code",
   "execution_count": 12,
   "metadata": {},
   "outputs": [
    {
     "name": "stdout",
     "output_type": "stream",
     "text": [
      "Model's maximum sequence length: 512\n"
     ]
    },
    {
     "data": {
      "image/png": "[encoded data removed]",
      "text/plain": [
       "<Figure size 640x480 with 1 Axes>"
      ]
     },
     "metadata": {},
     "output_type": "display_data"
    }
   ],
   "source": [
    "from sentence_transformers import SentenceTransformer\n",
    "\n",
    "# To get the value of the max sequence_length, we will query the underlying `SentenceTransformer` object used in the RecursiveCharacterTextSplitter\n",
    "print(f\"Model's maximum sequence length: {SentenceTransformer('thenlper/gte-small').max_seq_length}\")\n",
    "\n",
    "from transformers import AutoTokenizer\n",
    "\n",
    "tokenizer = AutoTokenizer.from_pretrained(\"thenlper/gte-small\")\n",
    "lengths = [len(tokenizer.encode(doc.page_content)) for doc in docs_processed]\n",
    "\n",
    "# Plot the distribution of document lengths, counted as the number of tokens\n",
    "fig = pd.Series(lengths).hist()\n",
    "plt.title(\"Distribution of document lengths in the knowledge base (in count of tokens)\")\n",
    "plt.show()"
   ]
  },
  {
   "cell_type": "code",
   "execution_count": 14,
   "metadata": {},
   "outputs": [
    {
     "data": {
      "image/png": "[encoded data removed]",
      "text/plain": [
       "<Figure size 640x480 with 1 Axes>"
      ]
     },
     "metadata": {},
     "output_type": "display_data"
    }
   ],
   "source": [
    "from langchain.text_splitter import RecursiveCharacterTextSplitter\n",
    "from transformers import AutoTokenizer\n",
    "\n",
    "EMBEDDING_MODEL_NAME = \"thenlper/gte-small\"\n",
    "\n",
    "\n",
    "def split_documents(\n",
    "    chunk_size: int,\n",
    "    knowledge_base: List[LangchainDocument],\n",
    "    tokenizer_name: Optional[str] = EMBEDDING_MODEL_NAME,\n",
    ") -> List[LangchainDocument]:\n",
    "    \"\"\"\n",
    "    Split documents into chunks of maximum size `chunk_size` tokens and return a list of documents.\n",
    "    \"\"\"\n",
    "    text_splitter = RecursiveCharacterTextSplitter.from_huggingface_tokenizer(\n",
    "        AutoTokenizer.from_pretrained(tokenizer_name),\n",
    "        chunk_size=chunk_size,\n",
    "        chunk_overlap=int(chunk_size / 10),\n",
    "        add_start_index=True,\n",
    "        strip_whitespace=True,\n",
    "        separators=MARKDOWN_SEPARATORS,\n",
    "    )\n",
    "\n",
    "    docs_processed = []\n",
    "    for doc in knowledge_base:\n",
    "        docs_processed += text_splitter.split_documents([doc])\n",
    "\n",
    "    # Remove duplicates\n",
    "    unique_texts = {}\n",
    "    docs_processed_unique = []\n",
    "    for doc in docs_processed:\n",
    "        if doc.page_content not in unique_texts:\n",
    "            unique_texts[doc.page_content] = True\n",
    "            docs_processed_unique.append(doc)\n",
    "\n",
    "    return docs_processed_unique\n",
    "\n",
    "\n",
    "docs_processed = split_documents(\n",
    "    512,  # We choose a chunk size adapted to our model\n",
    "    RAW_KNOWLEDGE_BASE,\n",
    "    tokenizer_name=EMBEDDING_MODEL_NAME,\n",
    ")\n",
    "\n",
    "# Let's visualize the chunk sizes we would have in tokens from a common model\n",
    "from transformers import AutoTokenizer\n",
    "\n",
    "tokenizer = AutoTokenizer.from_pretrained(EMBEDDING_MODEL_NAME)\n",
    "lengths = [len(tokenizer.encode(doc.page_content)) for doc in docs_processed]\n",
    "fig = pd.Series(lengths).hist()\n",
    "plt.title(\"Distribution of document lengths in the knowledge base (in count of tokens)\")\n",
    "plt.show()"
   ]
  },
  {
   "cell_type": "code",
   "execution_count": 15,
   "metadata": {},
   "outputs": [
    {
     "name": "stderr",
     "output_type": "stream",
     "text": [
      "/tmp/ipykernel_9200/2775243909.py:5: LangChainDeprecationWarning: The class `HuggingFaceEmbeddings` was deprecated in LangChain 0.2.2 and will be removed in 1.0. An updated version of the class exists in the :class:`~langchain-huggingface package and should be used instead. To use it run `pip install -U :class:`~langchain-huggingface` and import as `from :class:`~langchain_huggingface import HuggingFaceEmbeddings``.\n",
      "  embedding_model = HuggingFaceEmbeddings(\n"
     ]
    }
   ],
   "source": [
    "from langchain.vectorstores import FAISS\n",
    "from langchain_community.embeddings import HuggingFaceEmbeddings\n",
    "from langchain_community.vectorstores.utils import DistanceStrategy\n",
    "\n",
    "embedding_model = HuggingFaceEmbeddings(\n",
    "    model_name=EMBEDDING_MODEL_NAME,\n",
    "    multi_process=True,\n",
    "    model_kwargs={\"device\": \"cuda\"},\n",
    "    encode_kwargs={\"normalize_embeddings\": True},  # Set `True` for cosine similarity\n",
    ")\n",
    "\n",
    "KNOWLEDGE_VECTOR_DATABASE = FAISS.from_documents(\n",
    "    docs_processed, embedding_model, distance_strategy=DistanceStrategy.COSINE\n",
    ")"
   ]
  },
  {
   "cell_type": "code",
   "execution_count": 16,
   "metadata": {},
   "outputs": [],
   "source": [
    "# Embed a user query in the same space\n",
    "user_query = \"What is in your portafolio?\"\n",
    "query_vector = embedding_model.embed_query(user_query)"
   ]
  },
  {
   "cell_type": "code",
   "execution_count": 18,
   "metadata": {},
   "outputs": [
    {
     "name": "stderr",
     "output_type": "stream",
     "text": [
      "huggingface/tokenizers: The current process just got forked, after parallelism has already been used. Disabling parallelism to avoid deadlocks...\n",
      "To disable this warning, you can either:\n",
      "\t- Avoid using `tokenizers` before the fork if possible\n",
      "\t- Explicitly set the environment variable TOKENIZERS_PARALLELISM=(true | false)\n"
     ]
    },
    {
     "name": "stdout",
     "output_type": "stream",
     "text": [
      "Collecting plotly\n",
      "  Downloading plotly-5.24.1-py3-none-any.whl.metadata (7.3 kB)\n",
      "Requirement already satisfied: tenacity>=6.2.0 in /home/oscar/miniconda3/envs/jupyter/lib/python3.10/site-packages (from plotly) (8.5.0)\n",
      "Requirement already satisfied: packaging in /home/oscar/miniconda3/envs/jupyter/lib/python3.10/site-packages (from plotly) (24.1)\n",
      "Downloading plotly-5.24.1-py3-none-any.whl (19.1 MB)\n",
      "\u001b[2K   \u001b[38;2;114;156;31m━━━━━━━━━━━━━━━━━━━━━━━━━━━━━━━━━━━━━━━━\u001b[0m \u001b[32m19.1/19.1 MB\u001b[0m \u001b[31m19.2 MB/s\u001b[0m eta \u001b[36m0:00:00\u001b[0m31m20.0 MB/s\u001b[0m eta \u001b[36m0:00:01\u001b[0m\n",
      "\u001b[?25hInstalling collected packages: plotly\n",
      "Successfully installed plotly-5.24.1\n"
     ]
    }
   ],
   "source": [
    "!pip install plotly"
   ]
  },
  {
   "cell_type": "code",
   "execution_count": 19,
   "metadata": {},
   "outputs": [
    {
     "name": "stderr",
     "output_type": "stream",
     "text": [
      "/home/oscar/miniconda3/envs/jupyter/lib/python3.10/site-packages/pacmap/pacmap.py:822: UserWarning: Warning: random state is set to 1\n",
      "  warnings.warn(f'Warning: random state is set to {_RANDOM_STATE}')\n"
     ]
    }
   ],
   "source": [
    "import pacmap\n",
    "import numpy as np\n",
    "import plotly.express as px\n",
    "\n",
    "embedding_projector = pacmap.PaCMAP(n_components=2, n_neighbors=None, MN_ratio=0.5, FP_ratio=2.0, random_state=1)\n",
    "\n",
    "embeddings_2d = [\n",
    "    list(KNOWLEDGE_VECTOR_DATABASE.index.reconstruct_n(idx, 1)[0]) for idx in range(len(docs_processed))\n",
    "] + [query_vector]\n",
    "\n",
    "# Fit the data (the index of transformed data corresponds to the index of the original data)\n",
    "documents_projected = embedding_projector.fit_transform(np.array(embeddings_2d), init=\"pca\")"
   ]
  },
  {
   "cell_type": "code",
   "execution_count": 23,
   "metadata": {},
   "outputs": [
    {
     "ename": "AttributeError",
     "evalue": "'Figure' object has no attribute 'savefig'",
     "output_type": "error",
     "traceback": [
      "\u001b[0;31m---------------------------------------------------------------------------\u001b[0m",
      "\u001b[0;31mAttributeError\u001b[0m                            Traceback (most recent call last)",
      "Cell \u001b[0;32mIn[23], line 46\u001b[0m\n\u001b[1;32m     38\u001b[0m fig\u001b[38;5;241m.\u001b[39mupdate_traces(\n\u001b[1;32m     39\u001b[0m     marker\u001b[38;5;241m=\u001b[39m\u001b[38;5;28mdict\u001b[39m(opacity\u001b[38;5;241m=\u001b[39m\u001b[38;5;241m1\u001b[39m, line\u001b[38;5;241m=\u001b[39m\u001b[38;5;28mdict\u001b[39m(width\u001b[38;5;241m=\u001b[39m\u001b[38;5;241m0\u001b[39m, color\u001b[38;5;241m=\u001b[39m\u001b[38;5;124m\"\u001b[39m\u001b[38;5;124mDarkSlateGrey\u001b[39m\u001b[38;5;124m\"\u001b[39m)),\n\u001b[1;32m     40\u001b[0m     selector\u001b[38;5;241m=\u001b[39m\u001b[38;5;28mdict\u001b[39m(mode\u001b[38;5;241m=\u001b[39m\u001b[38;5;124m\"\u001b[39m\u001b[38;5;124mmarkers\u001b[39m\u001b[38;5;124m\"\u001b[39m),\n\u001b[1;32m     41\u001b[0m )\n\u001b[1;32m     42\u001b[0m fig\u001b[38;5;241m.\u001b[39mupdate_layout(\n\u001b[1;32m     43\u001b[0m     legend_title_text\u001b[38;5;241m=\u001b[39m\u001b[38;5;124m\"\u001b[39m\u001b[38;5;124m<b>Chunk source</b>\u001b[39m\u001b[38;5;124m\"\u001b[39m,\n\u001b[1;32m     44\u001b[0m     title\u001b[38;5;241m=\u001b[39m\u001b[38;5;124m\"\u001b[39m\u001b[38;5;124m<b>2D Projection of Chunk Embeddings via PaCMAP</b>\u001b[39m\u001b[38;5;124m\"\u001b[39m,\n\u001b[1;32m     45\u001b[0m )\n\u001b[0;32m---> 46\u001b[0m \u001b[43mfig\u001b[49m\u001b[38;5;241;43m.\u001b[39;49m\u001b[43msavefig\u001b[49m(\u001b[38;5;124m\"\u001b[39m\u001b[38;5;124masd\u001b[39m\u001b[38;5;124m\"\u001b[39m)\n\u001b[1;32m     47\u001b[0m fig\u001b[38;5;241m.\u001b[39mshow()\n",
      "\u001b[0;31mAttributeError\u001b[0m: 'Figure' object has no attribute 'savefig'"
     ]
    }
   ],
   "source": [
    "df = pd.DataFrame.from_dict(\n",
    "    [\n",
    "        {\n",
    "            \"x\": documents_projected[i, 0],\n",
    "            \"y\": documents_projected[i, 1],\n",
    "            \"source\": docs_processed[i].metadata[\"source\"].split(\"/\")[1],\n",
    "            \"extract\": docs_processed[i].page_content[:100] + \"...\",\n",
    "            \"symbol\": \"circle\",\n",
    "            \"size_col\": 4,\n",
    "        }\n",
    "        for i in range(len(docs_processed))\n",
    "    ]\n",
    "    + [\n",
    "        {\n",
    "            \"x\": documents_projected[-1, 0],\n",
    "            \"y\": documents_projected[-1, 1],\n",
    "            \"source\": \"User query\",\n",
    "            \"extract\": user_query,\n",
    "            \"size_col\": 100,\n",
    "            \"symbol\": \"star\",\n",
    "        }\n",
    "    ]\n",
    ")\n",
    "\n",
    "# Visualize the embedding\n",
    "fig = px.scatter(\n",
    "    df,\n",
    "    x=\"x\",\n",
    "    y=\"y\",\n",
    "    color=\"source\",\n",
    "    hover_data=\"extract\",\n",
    "    size=\"size_col\",\n",
    "    symbol=\"symbol\",\n",
    "    color_discrete_map={\"User query\": \"black\"},\n",
    "    width=1000,\n",
    "    height=700,\n",
    ")\n",
    "fig.update_traces(\n",
    "    marker=dict(opacity=1, line=dict(width=0, color=\"DarkSlateGrey\")),\n",
    "    selector=dict(mode=\"markers\"),\n",
    ")\n",
    "fig.update_layout(\n",
    "    legend_title_text=\"<b>Chunk source</b>\",\n",
    "    title=\"<b>2D Projection of Chunk Embeddings via PaCMAP</b>\",\n",
    ")\n",
    "fig.show()"
   ]
  },
  {
   "cell_type": "code",
   "execution_count": 24,
   "metadata": {},
   "outputs": [],
   "source": [
    "retrieved_docs = KNOWLEDGE_VECTOR_DATABASE.similarity_search(query=user_query, k=5)"
   ]
  },
  {
   "cell_type": "code",
   "execution_count": 27,
   "metadata": {},
   "outputs": [
    {
     "name": "stdout",
     "output_type": "stream",
     "text": [
      "\n",
      "==================================Top document==================================\n",
      "### Hi there 👋 I'm [Ivan](https://portafolio-ivanromero03.vercel.app)\n",
      "[![trophy](https://github-profile-trophy.vercel.app/?username=IvanRomero03&theme=onedark&column=6&row=1&margin-w=10)](https://github.com/ryo-ma/github-profile-trophy)\n",
      "\n",
      "\n",
      "## About me\n",
      "- 📚I'm a Computer Science Eng. student at Tec. de Monterrey\n",
      "- 🖥️I'm a SWD at [RoBorregos][Roborregos]\n",
      "- 😎Currently interning at Tec de Monterrey On Campus Jobs, Central Park Crowd Counting\n",
      "- ✅Fun Fact: I play the Oboe 🎼\n",
      "- 💻I'm currently learning **Design Patterns**\n",
      "==================================Metadata==================================\n",
      "{'source': 'assets/IvanRomero03_README.md', 'start_index': 0}\n",
      "{'source': 'assets/deep-person-reid_MODEL_ZOO.md', 'start_index': 1456}\n",
      "{'source': 'assets/Oscar-gg.github_README.md', 'start_index': 0}\n",
      "{'source': 'assets/Smart-Office_README.md', 'start_index': -1}\n",
      "{'source': 'assets/TC2038_algoritmos_README.md', 'start_index': 0}\n"
     ]
    }
   ],
   "source": [
    "print(\"\\n==================================Top document==================================\")\n",
    "print(retrieved_docs[0].page_content)\n",
    "print(\"==================================Metadata==================================\")\n",
    "for doc in retrieved_docs:\n",
    "    print(doc.metadata)"
   ]
  },
  {
   "cell_type": "code",
   "execution_count": null,
   "metadata": {},
   "outputs": [
    {
     "name": "stderr",
     "output_type": "stream",
     "text": [
      "`low_cpu_mem_usage` was None, now set to True since model is quantized.\n",
      "\n",
      "Downloading shards:   0%|                                 | 0/8 [00:00<?, ?it/s]\u001b[A\n",
      "Downloading shards:  12%|███▏                     | 1/8 [01:18<09:11, 78.78s/it]\u001b[A\n",
      "Downloading shards:  25%|██████▎                  | 2/8 [02:41<08:06, 81.07s/it]\u001b[A\n",
      "Downloading shards:  38%|█████████▍               | 3/8 [04:08<06:59, 83.87s/it]\u001b[A"
     ]
    }
   ],
   "source": [
    "from transformers import pipeline\n",
    "import torch\n",
    "from transformers import AutoTokenizer, AutoModelForCausalLM, BitsAndBytesConfig\n",
    "\n",
    "READER_MODEL_NAME = \"HuggingFaceH4/zephyr-7b-beta\"\n",
    "\n",
    "bnb_config = BitsAndBytesConfig(\n",
    "    load_in_4bit=True,\n",
    "    bnb_4bit_use_double_quant=True,\n",
    "    bnb_4bit_quant_type=\"nf4\",\n",
    "    bnb_4bit_compute_dtype=torch.bfloat16,\n",
    ")\n",
    "model = AutoModelForCausalLM.from_pretrained(READER_MODEL_NAME, quantization_config=bnb_config)\n",
    "tokenizer = AutoTokenizer.from_pretrained(READER_MODEL_NAME)\n",
    "\n",
    "READER_LLM = pipeline(\n",
    "    model=model,\n",
    "    tokenizer=tokenizer,\n",
    "    task=\"text-generation\",\n",
    "    do_sample=True,\n",
    "    temperature=0.2,\n",
    "    repetition_penalty=1.1,\n",
    "    return_full_text=False,\n",
    "    max_new_tokens=500,\n",
    ")"
   ]
  },
  {
   "cell_type": "code",
   "execution_count": null,
   "metadata": {},
   "outputs": [],
   "source": [
    "READER_LLM(\"What is 4+4? Answer:\")"
   ]
  },
  {
   "cell_type": "code",
   "execution_count": null,
   "metadata": {},
   "outputs": [],
   "source": [
    "prompt_in_chat_format = [\n",
    "    {\n",
    "        \"role\": \"system\",\n",
    "        \"content\": \"\"\"Using the information contained in the context,\n",
    "give a comprehensive answer to the question.\n",
    "Respond only to the question asked, response should be concise and relevant to the question.\n",
    "Provide the number of the source document when relevant.\n",
    "If the answer cannot be deduced from the context, do not give an answer.\"\"\",\n",
    "    },\n",
    "    {\n",
    "        \"role\": \"user\",\n",
    "        \"content\": \"\"\"Context:\n",
    "{context}\n",
    "---\n",
    "Now here is the question you need to answer.\n",
    "\n",
    "Question: {question}\"\"\",\n",
    "    },\n",
    "]\n",
    "RAG_PROMPT_TEMPLATE = tokenizer.apply_chat_template(\n",
    "    prompt_in_chat_format, tokenize=False, add_generation_prompt=True\n",
    ")\n"
   ]
  },
  {
   "cell_type": "code",
   "execution_count": null,
   "metadata": {},
   "outputs": [],
   "source": [
    "retrieved_docs_text = [doc.page_content for doc in retrieved_docs]  # We only need the text of the documents\n",
    "context = \"\\nExtracted documents:\\n\"\n",
    "context += \"\".join([f\"Document {str(i)}:::\\n\" + doc for i, doc in enumerate(retrieved_docs_text)])\n",
    "\n",
    "final_prompt = RAG_PROMPT_TEMPLATE.format(question=\"What is in your portafolio?\", context=context)\n",
    "\n",
    "# Redact an answer\n",
    "answer = READER_LLM(final_prompt)[0][\"generated_text\"]\n",
    "print(answer)"
   ]
  },
  {
   "cell_type": "code",
   "execution_count": null,
   "metadata": {},
   "outputs": [],
   "source": []
  }
 ],
 "metadata": {
  "kernelspec": {
   "display_name": "rag",
   "language": "python",
   "name": "rag"
  },
  "language_info": {
   "codemirror_mode": {
    "name": "ipython",
    "version": 3
   },
   "file_extension": ".py",
   "mimetype": "text/x-python",
   "name": "python",
   "nbconvert_exporter": "python",
   "pygments_lexer": "ipython3",
   "version": "3.10.15"
  }
 },
 "nbformat": 4,
 "nbformat_minor": 4
}
